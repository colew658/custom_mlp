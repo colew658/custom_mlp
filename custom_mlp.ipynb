{
 "cells": [
  {
   "cell_type": "markdown",
   "metadata": {},
   "source": [
    "# Custom MLP Implementation on US Census Data\n",
    "\n",
    "By: Joe Sellett, Haiyan Cai, and Cole Wagner"
   ]
  },
  {
   "cell_type": "markdown",
   "metadata": {},
   "source": [
    "## Load, Split, and Balance Data"
   ]
  },
  {
   "cell_type": "code",
   "execution_count": 1,
   "metadata": {},
   "outputs": [],
   "source": [
    "import itertools\n",
    "import sys\n",
    "\n",
    "import matplotlib.pyplot as plt\n",
    "import numpy as np\n",
    "import pandas as pd\n",
    "from scipy.special import expit\n",
    "from sklearn.metrics import accuracy_score\n",
    "from sklearn.model_selection import cross_val_score, train_test_split\n",
    "from sklearn.preprocessing import OneHotEncoder, StandardScaler\n"
   ]
  },
  {
   "cell_type": "code",
   "execution_count": 2,
   "metadata": {},
   "outputs": [],
   "source": [
    "# Load the data as a pandas DataFrame\n",
    "census_data = pd.read_csv(\"acs2017_census_tract_data.csv\")"
   ]
  },
  {
   "cell_type": "code",
   "execution_count": 3,
   "metadata": {},
   "outputs": [
    {
     "data": {
      "text/plain": [
       "(74001, 37)"
      ]
     },
     "execution_count": 3,
     "metadata": {},
     "output_type": "execute_result"
    }
   ],
   "source": [
    "census_data.head()\n",
    "census_data.shape"
   ]
  },
  {
   "cell_type": "code",
   "execution_count": 4,
   "metadata": {},
   "outputs": [],
   "source": [
    "# Remove any rows with missing values\n",
    "census_nona = census_data.dropna()"
   ]
  },
  {
   "cell_type": "code",
   "execution_count": 5,
   "metadata": {},
   "outputs": [
    {
     "name": "stdout",
     "output_type": "stream",
     "text": [
      "<class 'pandas.core.frame.DataFrame'>\n",
      "Index: 72718 entries, 0 to 74000\n",
      "Data columns (total 37 columns):\n",
      " #   Column            Non-Null Count  Dtype  \n",
      "---  ------            --------------  -----  \n",
      " 0   TractId           72718 non-null  int64  \n",
      " 1   State             72718 non-null  object \n",
      " 2   County            72718 non-null  object \n",
      " 3   TotalPop          72718 non-null  int64  \n",
      " 4   Men               72718 non-null  int64  \n",
      " 5   Women             72718 non-null  int64  \n",
      " 6   Hispanic          72718 non-null  float64\n",
      " 7   White             72718 non-null  float64\n",
      " 8   Black             72718 non-null  float64\n",
      " 9   Native            72718 non-null  float64\n",
      " 10  Asian             72718 non-null  float64\n",
      " 11  Pacific           72718 non-null  float64\n",
      " 12  VotingAgeCitizen  72718 non-null  int64  \n",
      " 13  Income            72718 non-null  float64\n",
      " 14  IncomeErr         72718 non-null  float64\n",
      " 15  IncomePerCap      72718 non-null  float64\n",
      " 16  IncomePerCapErr   72718 non-null  float64\n",
      " 17  Poverty           72718 non-null  float64\n",
      " 18  ChildPoverty      72718 non-null  float64\n",
      " 19  Professional      72718 non-null  float64\n",
      " 20  Service           72718 non-null  float64\n",
      " 21  Office            72718 non-null  float64\n",
      " 22  Construction      72718 non-null  float64\n",
      " 23  Production        72718 non-null  float64\n",
      " 24  Drive             72718 non-null  float64\n",
      " 25  Carpool           72718 non-null  float64\n",
      " 26  Transit           72718 non-null  float64\n",
      " 27  Walk              72718 non-null  float64\n",
      " 28  OtherTransp       72718 non-null  float64\n",
      " 29  WorkAtHome        72718 non-null  float64\n",
      " 30  MeanCommute       72718 non-null  float64\n",
      " 31  Employed          72718 non-null  int64  \n",
      " 32  PrivateWork       72718 non-null  float64\n",
      " 33  PublicWork        72718 non-null  float64\n",
      " 34  SelfEmployed      72718 non-null  float64\n",
      " 35  FamilyWork        72718 non-null  float64\n",
      " 36  Unemployment      72718 non-null  float64\n",
      "dtypes: float64(29), int64(6), object(2)\n",
      "memory usage: 21.1+ MB\n"
     ]
    }
   ],
   "source": [
    "census_nona.info()"
   ]
  },
  {
   "cell_type": "code",
   "execution_count": 6,
   "metadata": {},
   "outputs": [
    {
     "name": "stderr",
     "output_type": "stream",
     "text": [
      "/var/folders/jk/68j7w1pn443f9hrnsrlvphpw0000gn/T/ipykernel_53531/2779392074.py:8: SettingWithCopyWarning: \n",
      "A value is trying to be set on a copy of a slice from a DataFrame.\n",
      "Try using .loc[row_indexer,col_indexer] = value instead\n",
      "\n",
      "See the caveats in the documentation: https://pandas.pydata.org/pandas-docs/stable/user_guide/indexing.html#returning-a-view-versus-a-copy\n",
      "  census_nona[\"State\"] = census_nona[\"State\"].map(state_to_int)\n"
     ]
    }
   ],
   "source": [
    "# Encode State column as integers\n",
    "\n",
    "# Sort states alphabetically\n",
    "unique_states = sorted(census_nona[\"State\"].unique())\n",
    "# Create a dictionary to map states to integers\n",
    "state_to_int = {state: i + 1 for i, state in enumerate(unique_states)}\n",
    "# Map the states to integers\n",
    "census_nona[\"State\"] = census_nona[\"State\"].map(state_to_int)\n"
   ]
  },
  {
   "cell_type": "code",
   "execution_count": 7,
   "metadata": {},
   "outputs": [
    {
     "data": {
      "text/plain": [
       "County\n",
       "Los Angeles County    2300\n",
       "Cook County           1317\n",
       "Orange County          929\n",
       "Maricopa County        885\n",
       "Montgomery County      822\n",
       "                      ... \n",
       "Buena Vista city         1\n",
       "Meagher County           1\n",
       "Norton County            1\n",
       "McCone County            1\n",
       "Schleicher County        1\n",
       "Name: count, Length: 1954, dtype: int64"
      ]
     },
     "execution_count": 7,
     "metadata": {},
     "output_type": "execute_result"
    }
   ],
   "source": [
    "census_nona[\"County\"].value_counts()"
   ]
  },
  {
   "cell_type": "code",
   "execution_count": 8,
   "metadata": {},
   "outputs": [],
   "source": [
    "# Drop the County column\n",
    "census_nona = census_nona.drop(columns=[\"County\"])"
   ]
  },
  {
   "cell_type": "markdown",
   "metadata": {},
   "source": [
    "We decided to remove the County column due to the large number of categories. Using this in a model would require introducing almost 2000 columns into our dataset using one-hot encoding."
   ]
  },
  {
   "cell_type": "markdown",
   "metadata": {},
   "source": [
    "We believe that quantizing the data must be done separately for the training and testing data to prevent data leakage. We do not want the quantization of the testing data to be influenced by the training data. We will use the training data to determine the quantization bins and then apply the same bins to the testing data."
   ]
  },
  {
   "cell_type": "code",
   "execution_count": 9,
   "metadata": {},
   "outputs": [],
   "source": [
    "# Perform 80/20 train-test split\n",
    "x_train, x_test, y_train, y_test = train_test_split(\n",
    "    # Use all columns except ChildPoverty and TractId as features\n",
    "    census_nona.drop(columns=[\"ChildPoverty\", \"TractId\"]),\n",
    "    census_nona[\"ChildPoverty\"],\n",
    "    test_size=0.2,\n",
    "    random_state=7324,\n",
    ")"
   ]
  },
  {
   "cell_type": "code",
   "execution_count": 10,
   "metadata": {},
   "outputs": [
    {
     "data": {
      "text/plain": [
       "<Axes: >"
      ]
     },
     "execution_count": 10,
     "metadata": {},
     "output_type": "execute_result"
    },
    {
     "data": {
      "image/png": "[encoded data removed]",
      "text/plain": [
       "<Figure size 640x480 with 1 Axes>"
      ]
     },
     "metadata": {},
     "output_type": "display_data"
    }
   ],
   "source": [
    "y_train.hist()"
   ]
  },
  {
   "cell_type": "code",
   "execution_count": 11,
   "metadata": {},
   "outputs": [
    {
     "data": {
      "text/plain": [
       "<Axes: >"
      ]
     },
     "execution_count": 11,
     "metadata": {},
     "output_type": "execute_result"
    },
    {
     "data": {
      "image/png": "[encoded data removed]",
      "text/plain": [
       "<Figure size 640x480 with 1 Axes>"
      ]
     },
     "metadata": {},
     "output_type": "display_data"
    }
   ],
   "source": [
    "y_test.hist()"
   ]
  },
  {
   "cell_type": "markdown",
   "metadata": {},
   "source": [
    "From the histograms above, we confirm that the distribution of ChildPoverty is similar in the training and testing sets."
   ]
  },
  {
   "cell_type": "code",
   "execution_count": 12,
   "metadata": {},
   "outputs": [],
   "source": [
    "# Quantize the training labels\n",
    "y_train_cat, cuts = pd.qcut(\n",
    "    y_train, q=4, labels=[0, 1, 2, 3], retbins=True\n",
    ")\n",
    "\n",
    "# Apply the same quantization to the test labels\n",
    "y_test_cat = []\n",
    "for y in y_test:\n",
    "    if y < cuts[1]:\n",
    "        y_test_cat.append(0)\n",
    "    elif y < cuts[2]:\n",
    "        y_test_cat.append(1)\n",
    "    elif y < cuts[3]:\n",
    "        y_test_cat.append(2)\n",
    "    else:\n",
    "        y_test_cat.append(3)"
   ]
  },
  {
   "cell_type": "code",
   "execution_count": 13,
   "metadata": {},
   "outputs": [],
   "source": [
    "y_test_cat = np.array(y_test_cat)"
   ]
  },
  {
   "cell_type": "markdown",
   "metadata": {},
   "source": [
    "## Preprocessing and Initial Modeling"
   ]
  },
  {
   "cell_type": "markdown",
   "metadata": {},
   "source": [
    "### Create MLP Classes"
   ]
  },
  {
   "cell_type": "markdown",
   "metadata": {},
   "source": [
    "From https://github.com/eclarson/MachineLearningNotebooks/blob/master/08a.%20Practical_NeuralNets%20with%20Bias.ipynb"
   ]
  },
  {
   "cell_type": "code",
   "execution_count": 14,
   "metadata": {},
   "outputs": [],
   "source": [
    "# start with a simple base classifier, which can't be fit or predicted\n",
    "# it only has internal classes to be used by classes that will subclass it\n",
    "class TwoLayerPerceptronBase(object):\n",
    "    def __init__(\n",
    "        self,\n",
    "        n_hidden=30,\n",
    "        C=0.0,\n",
    "        epochs=500,\n",
    "        eta=0.00001,\n",
    "        random_state=None,\n",
    "    ):\n",
    "        np.random.seed(random_state)\n",
    "        self.n_hidden = n_hidden\n",
    "        self.l2_C = C\n",
    "        self.epochs = epochs\n",
    "        self.eta = eta\n",
    "\n",
    "    @staticmethod\n",
    "    def _encode_labels(y):\n",
    "        \"\"\"Encode labels into one-hot representation\"\"\"\n",
    "        onehot = pd.get_dummies(y).values.T\n",
    "\n",
    "        return onehot\n",
    "\n",
    "    def _initialize_weights(self):\n",
    "        \"\"\"Initialize weights with small random numbers.\"\"\"\n",
    "        W1_num_elems = (self.n_features_) * self.n_hidden\n",
    "        W1 = np.random.uniform(-1.0, 1.0, size=W1_num_elems)\n",
    "        W1 = W1.reshape(self.n_hidden, self.n_features_)  # reshape to be W\n",
    "        b1 = np.zeros((self.n_hidden, 1))\n",
    "\n",
    "        W2_num_elems = (self.n_hidden) * self.n_output_\n",
    "        W2 = np.random.uniform(-1.0, 1.0, size=W2_num_elems)\n",
    "        W2 = W2.reshape(self.n_output_, self.n_hidden)\n",
    "        b2 = np.zeros((self.n_output_, 1))\n",
    "\n",
    "        return W1, W2, b1, b2\n",
    "\n",
    "    @staticmethod\n",
    "    def _sigmoid(z):\n",
    "        \"\"\"Use scipy.special.expit to avoid overflow\"\"\"\n",
    "        # 1.0 / (1.0 + np.exp(-z))\n",
    "        return expit(z)\n",
    "\n",
    "    @staticmethod\n",
    "    def _L2_reg(lambda_, W1, W2):\n",
    "        \"\"\"Compute L2-regularization cost\"\"\"\n",
    "        # only compute for non-bias terms\n",
    "        return (lambda_ / 2.0) * np.sqrt(\n",
    "            np.mean(W1[:, 1:] ** 2) + np.mean(W2[:, 1:] ** 2)\n",
    "        )\n",
    "\n",
    "    def _cost(self, A3, Y_enc, W1, W2):\n",
    "        \"\"\"Get the objective function value\"\"\"\n",
    "        cost = np.mean((Y_enc - A3) ** 2)\n",
    "        L2_term = self._L2_reg(self.l2_C, W1, W2)\n",
    "        return cost + L2_term\n",
    "\n",
    "    def _feedforward(self, X, W1, W2, b1, b2):\n",
    "        \"\"\"Compute feedforward step.\n",
    "\n",
    "        -----------\n",
    "        X : Input layer with original features.\n",
    "        W1: Weight matrix for input layer -> hidden layer.\n",
    "        W2: Weight matrix for hidden layer -> output layer.\n",
    "        ----------\n",
    "        a1-a3 : activations into layer (or output layer)\n",
    "        z1-z2 : layer inputs\n",
    "\n",
    "        \"\"\"\n",
    "        A1 = X.T\n",
    "        Z1 = W1 @ A1 + b1\n",
    "        A2 = self._sigmoid(Z1)\n",
    "        Z2 = W2 @ A2 + b2\n",
    "        A3 = self._sigmoid(Z2)\n",
    "        return A1, Z1, A2, Z2, A3\n",
    "\n",
    "    def _get_gradient(self, A1, A2, A3, Z1, Z2, Y_enc, W1, W2):\n",
    "        \"\"\"Compute gradient step using backpropagation.\"\"\"\n",
    "        # vectorized backpropagation\n",
    "        # This uses MSE as cost function\n",
    "        V2 = -2 * (Y_enc - A3) * A3 * (1 - A3)\n",
    "        V1 = A2 * (1 - A2) * (W2.T @ V2)\n",
    "\n",
    "        gradW2 = V2 @ A2.T\n",
    "        gradW1 = V1 @ A1.T\n",
    "\n",
    "        gradb2 = np.sum(V2, axis=1).reshape((-1, 1))\n",
    "        gradb1 = np.sum(V1, axis=1).reshape((-1, 1))\n",
    "\n",
    "        # regularize weights that are not bias terms\n",
    "        gradW1 += W1 * self.l2_C\n",
    "        gradW2 += W2 * self.l2_C\n",
    "\n",
    "        return gradW1, gradW2, gradb1, gradb2\n",
    "\n",
    "    def predict(self, X):\n",
    "        \"\"\"Predict class labels.\"\"\"\n",
    "        _, _, _, _, A3 = self._feedforward(\n",
    "            X, self.W1, self.W2, self.b1, self.b2\n",
    "        )\n",
    "        y_pred = np.argmax(A3, axis=0)\n",
    "        return y_pred"
   ]
  },
  {
   "cell_type": "code",
   "execution_count": 15,
   "metadata": {},
   "outputs": [],
   "source": [
    "# just start with the vectorized version and minibatch\n",
    "class TLPMiniBatch(TwoLayerPerceptronBase):\n",
    "    def __init__(\n",
    "        self,\n",
    "        shuffle=True,\n",
    "        minibatches=1,\n",
    "        **kwds,\n",
    "    ):\n",
    "        # need to add to the original initializer\n",
    "        self.shuffle = shuffle\n",
    "        self.minibatches = minibatches\n",
    "        # but keep other keywords\n",
    "        super().__init__(**kwds)\n",
    "\n",
    "    def fit(self, X, y, print_progress=False, XY_test=None):\n",
    "        \"\"\"Learn weights from training data. With mini-batch\"\"\"\n",
    "        X_data, y_data = X.copy(), y.copy()\n",
    "        Y_enc = self._encode_labels(y)\n",
    "\n",
    "        # init weights and setup matrices\n",
    "        self.n_features_ = X_data.shape[1]\n",
    "        self.n_output_ = Y_enc.shape[0]\n",
    "        self.W1, self.W2, self.b1, self.b2 = self._initialize_weights()\n",
    "        self.cost_ = []\n",
    "        self.score_ = []\n",
    "        # get starting acc\n",
    "        self.score_.append(accuracy_score(y_data, self.predict(X_data)))\n",
    "        # keep track of validation, if given\n",
    "        if XY_test is not None:\n",
    "            X_test = XY_test[0].copy()\n",
    "            y_test = XY_test[1].copy()\n",
    "            self.val_score_ = []\n",
    "            self.val_score_.append(\n",
    "                accuracy_score(y_test, self.predict(X_test))\n",
    "            )\n",
    "            self.val_cost_ = []\n",
    "\n",
    "        for i in range(self.epochs):\n",
    "            if print_progress > 0 and (i + 1) % print_progress == 0:\n",
    "                sys.stderr.write(\"\\rEpoch: %d/%d\" % (i + 1, self.epochs))\n",
    "                sys.stderr.flush()\n",
    "\n",
    "            if self.shuffle:\n",
    "                idx_shuffle = np.random.permutation(y_data.shape[0])\n",
    "                X_data, Y_enc, y_data = (\n",
    "                    X_data[idx_shuffle],\n",
    "                    Y_enc[:, idx_shuffle],\n",
    "                    y_data[idx_shuffle],\n",
    "                )\n",
    "\n",
    "            mini = np.array_split(range(y_data.shape[0]), self.minibatches)\n",
    "            mini_cost = []\n",
    "            for idx in mini:\n",
    "                # feedforward\n",
    "                A1, Z1, A2, Z2, A3 = self._feedforward(\n",
    "                    X_data[idx], self.W1, self.W2, self.b1, self.b2\n",
    "                )\n",
    "\n",
    "                cost = self._cost(A3, Y_enc[:, idx], self.W1, self.W2)\n",
    "                mini_cost.append(\n",
    "                    cost\n",
    "                )  # this appends cost of mini-batch only\n",
    "\n",
    "                # compute gradient via backpropagation\n",
    "                gradW1, gradW2, gradb1, gradb2 = self._get_gradient(\n",
    "                    A1=A1,\n",
    "                    A2=A2,\n",
    "                    A3=A3,\n",
    "                    Z1=Z1,\n",
    "                    Z2=Z2,\n",
    "                    Y_enc=Y_enc[:, idx],\n",
    "                    W1=self.W1,\n",
    "                    W2=self.W2,\n",
    "                )\n",
    "\n",
    "                # uUdate weights and biases\n",
    "                rho_W1, rho_W2 = self.eta * gradW1, self.eta * gradW2\n",
    "                self.W1 -= rho_W1\n",
    "                self.W2 -= rho_W2\n",
    "                self.b1 -= self.eta * gradb1\n",
    "                self.b2 -= self.eta * gradb2\n",
    "\n",
    "            self.cost_.append(np.mean(mini_cost))\n",
    "            self.score_.append(\n",
    "                accuracy_score(y_data, self.predict(X_data))\n",
    "            )\n",
    "\n",
    "            # update if a validation set was provided\n",
    "            if XY_test is not None:\n",
    "                yhat = self.predict(X_test)\n",
    "                self.val_score_.append(accuracy_score(y_test, yhat))\n",
    "\n",
    "        return self\n",
    "\n",
    "    def get_params(self, deep=True) -> dict:\n",
    "        \"\"\"Get the parameters of the model.\n",
    "\n",
    "        Parameters\n",
    "        ----------\n",
    "        deep : bool, optional (default=True)\n",
    "            Required parameter for compatibility with sklearn.\n",
    "\n",
    "        Returns\n",
    "        -------\n",
    "        dict\n",
    "            Parameters of the model.\n",
    "\n",
    "        \"\"\"\n",
    "        return {\n",
    "            \"eta\": self.eta,\n",
    "            \"C\": self.l2_C,\n",
    "            \"epochs\": self.epochs,\n",
    "            \"n_hidden\": self.n_hidden,\n",
    "            \"shuffle\": self.shuffle,\n",
    "            \"minibatches\": self.minibatches,\n",
    "        }\n",
    "\n",
    "    def set_params(self, **params: dict) -> None:\n",
    "        \"\"\"Set the parameters of the model.\n",
    "\n",
    "        Parameters\n",
    "        ----------\n",
    "        **params : dict\n",
    "            Parameters to set.\n",
    "\n",
    "        \"\"\"\n",
    "        for key, value in params.items():\n",
    "            if key in self.get_params():\n",
    "                setattr(self, key, value)\n",
    "            else:\n",
    "                raise ValueError(f\"Invalid parameter: {key}\")"
   ]
  },
  {
   "cell_type": "code",
   "execution_count": 16,
   "metadata": {},
   "outputs": [],
   "source": [
    "# to implement the new style of objective function,\n",
    "# we just need to update the final layer calculation of the gradient\n",
    "class TLPMiniBatchCrossEntropy(TLPMiniBatch):\n",
    "    def _cost(self, A3, Y_enc, W1, W2):\n",
    "        \"\"\"Get the objective function value\"\"\"\n",
    "        cost = -np.mean(\n",
    "            np.nan_to_num(\n",
    "                (\n",
    "                    Y_enc * np.log(A3 + 1e-7)\n",
    "                    + (1 - Y_enc) * np.log(1 - A3 + 1e-7)\n",
    "                )\n",
    "            )\n",
    "        )\n",
    "        L2_term = self._L2_reg(self.l2_C, W1, W2)\n",
    "        return cost + L2_term\n",
    "\n",
    "    def _get_gradient(self, A1, A2, A3, Z1, Z2, Y_enc, W1, W2):\n",
    "        \"\"\"Compute gradient step using backpropagation.\"\"\"\n",
    "        # vectorized backpropagation\n",
    "        # Now using cross-entropy as cost function\n",
    "        V2 = A3 - Y_enc  # <- this is only line that changed\n",
    "        V1 = A2 * (1 - A2) * (W2.T @ V2)\n",
    "\n",
    "        gradW2 = V2 @ A2.T\n",
    "        gradW1 = V1 @ A1.T\n",
    "\n",
    "        gradb2 = np.sum(V2, axis=1).reshape((-1, 1))\n",
    "        gradb1 = np.sum(V1, axis=1).reshape((-1, 1))\n",
    "\n",
    "        # regularize weights that are not bias terms\n",
    "        gradW1 += W1 * self.l2_C\n",
    "        gradW2 += W2 * self.l2_C\n",
    "\n",
    "        return gradW1, gradW2, gradb1, gradb2"
   ]
  },
  {
   "cell_type": "code",
   "execution_count": 17,
   "metadata": {},
   "outputs": [],
   "source": [
    "class TLPBetterInitial(TLPMiniBatchCrossEntropy):\n",
    "    def _initialize_weights(self):\n",
    "        \"\"\"Initialize weights Glorot and He normalization.\"\"\"\n",
    "        init_bound = 4 * np.sqrt(6.0 / (self.n_hidden + self.n_features_))\n",
    "        W1 = np.random.uniform(\n",
    "            -init_bound, init_bound, (self.n_hidden, self.n_features_)\n",
    "        )\n",
    "\n",
    "        # reduce the final layer magnitude in order to balance the size of the gradients\n",
    "        # between\n",
    "        init_bound = 4 * np.sqrt(6 / (self.n_output_ + self.n_hidden))\n",
    "        W2 = np.random.uniform(\n",
    "            -init_bound, init_bound, (self.n_output_, self.n_hidden)\n",
    "        )\n",
    "\n",
    "        # set these to zero to start so that\n",
    "        # they do not immediately saturate the neurons\n",
    "        b1 = np.zeros((self.n_hidden, 1))\n",
    "        b2 = np.zeros((self.n_output_, 1))\n",
    "\n",
    "        return W1, W2, b1, b2"
   ]
  },
  {
   "cell_type": "markdown",
   "metadata": {},
   "source": [
    "### Apply the New MLP classes to the US Census Data"
   ]
  },
  {
   "cell_type": "code",
   "execution_count": 18,
   "metadata": {},
   "outputs": [],
   "source": [
    "def get_hyperparameter_combinations(param_grid: dict) -> list:\n",
    "    \"\"\"Generate all possible combinations of hyperparameters from a grid.\n",
    "\n",
    "    Parameters\n",
    "    ----------\n",
    "    param_grid : dict\n",
    "      A dictionary where keys are hyperparameter names and values are\n",
    "      lists of possible settings.\n",
    "\n",
    "    Returns\n",
    "    -------\n",
    "    list\n",
    "      A list of dictionaries, where each dictionary represents a unique\n",
    "      combination of hyperparameters.\n",
    "\n",
    "    \"\"\"\n",
    "    keys, values = zip(*param_grid.items())\n",
    "    combinations_list = list(itertools.product(*values))\n",
    "    return [\n",
    "        dict(zip(keys, combination)) for combination in combinations_list\n",
    "    ]\n"
   ]
  },
  {
   "cell_type": "code",
   "execution_count": 19,
   "metadata": {},
   "outputs": [],
   "source": [
    "def grid_search(\n",
    "    nn: object,\n",
    "    x: np.array,\n",
    "    y: np.array,\n",
    "    param_grid: dict,\n",
    ") -> tuple:\n",
    "    \"\"\"Perform grid search to find the best hyperparameters.\n",
    "\n",
    "    Parameters\n",
    "    ----------\n",
    "    nn : object\n",
    "        A neural network object.\n",
    "    x : np.array\n",
    "        Input data.\n",
    "    y : np.array\n",
    "        Target labels.\n",
    "    param_grid : dict\n",
    "        Dictionary of hyperparameters to search.\n",
    "\n",
    "    Returns\n",
    "    -------\n",
    "    pd.DataFrame\n",
    "        DataFrame containing the results of the grid search.\n",
    "\n",
    "    \"\"\"\n",
    "    # Create a list to store the results\n",
    "    cv_results = []\n",
    "\n",
    "    # Generate all possible combinations of hyperparameters\n",
    "    hyper_combos = get_hyperparameter_combinations(param_grid)\n",
    "\n",
    "    # Iterate over each combination of hyperparameters\n",
    "    for i, params in enumerate(hyper_combos):\n",
    "        # Create new instance of the classifier with the current set of parameters\n",
    "        clf = nn(\n",
    "            eta=params.get(\"eta\", 0.01),\n",
    "            C=params.get(\"C\", 0.001),\n",
    "            n_hidden=params.get(\"n_hidden\", 30),\n",
    "            epochs=params.get(\"epochs\", 500),\n",
    "            random_state=7324,\n",
    "        )\n",
    "\n",
    "        # Perform 5-fold cross-validation\n",
    "        cv_scores = cross_val_score(\n",
    "            estimator=clf,\n",
    "            X=x,\n",
    "            y=y,\n",
    "            cv=5,\n",
    "            scoring=\"accuracy\",\n",
    "        )\n",
    "\n",
    "        # Calculate the mean accuracy and standard deviation\n",
    "        mean_accuracy = np.mean(cv_scores)\n",
    "        std_accuracy = np.std(cv_scores)\n",
    "\n",
    "        # Append the results to the dataframe\n",
    "        cv_results.append(\n",
    "            {\n",
    "                \"eta\": params.get(\"eta\", 0.01),\n",
    "                \"C\": params.get(\"l2_C\", 0.001),\n",
    "                \"n_hidden\": params.get(\"n_hidden\", 30),\n",
    "                \"epochs\": params.get(\"epochs\", 500),\n",
    "                \"accuracy_mean\": mean_accuracy,\n",
    "                \"accuracy_std\": std_accuracy,\n",
    "            },\n",
    "        )\n",
    "    # Convert the results to a DataFrame\n",
    "    return pd.DataFrame(cv_results)"
   ]
  },
  {
   "cell_type": "code",
   "execution_count": 20,
   "metadata": {},
   "outputs": [],
   "source": [
    "small_hyper_grid = {\n",
    "    \"eta\": [0.000001, 0.00001],  # Learning rates\n",
    "    \"C\": [0.0, 0.001],  # Regularization strengths\n",
    "    \"n_hidden\": [30, 50],  # Number of neurons in hidden layer\n",
    "    \"epochs\": [100],  # Number of epochs\n",
    "}"
   ]
  },
  {
   "cell_type": "code",
   "execution_count": null,
   "metadata": {},
   "outputs": [],
   "source": [
    "# grid_results = grid_search(\n",
    "#     nn=TLPBetterInitial,\n",
    "#     x=x_train.to_numpy(),\n",
    "#     y=y_train_cat.to_numpy(),\n",
    "#     param_grid=small_hyper_grid,\n",
    "# ).sort_values(by=\"accuracy_mean\", ascending=False)"
   ]
  },
  {
   "cell_type": "code",
   "execution_count": 47,
   "metadata": {},
   "outputs": [
    {
     "data": {
      "text/html": [
       "<div>\n",
       "<style scoped>\n",
       "    .dataframe tbody tr th:only-of-type {\n",
       "        vertical-align: middle;\n",
       "    }\n",
       "\n",
       "    .dataframe tbody tr th {\n",
       "        vertical-align: top;\n",
       "    }\n",
       "\n",
       "    .dataframe thead th {\n",
       "        text-align: right;\n",
       "    }\n",
       "</style>\n",
       "<table border=\"1\" class=\"dataframe\">\n",
       "  <thead>\n",
       "    <tr style=\"text-align: right;\">\n",
       "      <th></th>\n",
       "      <th>eta</th>\n",
       "      <th>C</th>\n",
       "      <th>n_hidden</th>\n",
       "      <th>epochs</th>\n",
       "      <th>accuracy_mean</th>\n",
       "      <th>accuracy_std</th>\n",
       "    </tr>\n",
       "  </thead>\n",
       "  <tbody>\n",
       "    <tr>\n",
       "      <th>0</th>\n",
       "      <td>0.000001</td>\n",
       "      <td>0.001</td>\n",
       "      <td>50</td>\n",
       "      <td>100</td>\n",
       "      <td>0.316602</td>\n",
       "      <td>0.034591</td>\n",
       "    </tr>\n",
       "    <tr>\n",
       "      <th>1</th>\n",
       "      <td>0.000001</td>\n",
       "      <td>0.001</td>\n",
       "      <td>50</td>\n",
       "      <td>100</td>\n",
       "      <td>0.306407</td>\n",
       "      <td>0.039521</td>\n",
       "    </tr>\n",
       "    <tr>\n",
       "      <th>2</th>\n",
       "      <td>0.000001</td>\n",
       "      <td>0.001</td>\n",
       "      <td>30</td>\n",
       "      <td>100</td>\n",
       "      <td>0.301630</td>\n",
       "      <td>0.032060</td>\n",
       "    </tr>\n",
       "    <tr>\n",
       "      <th>3</th>\n",
       "      <td>0.000001</td>\n",
       "      <td>0.001</td>\n",
       "      <td>30</td>\n",
       "      <td>100</td>\n",
       "      <td>0.278337</td>\n",
       "      <td>0.031301</td>\n",
       "    </tr>\n",
       "    <tr>\n",
       "      <th>4</th>\n",
       "      <td>0.000010</td>\n",
       "      <td>0.001</td>\n",
       "      <td>30</td>\n",
       "      <td>100</td>\n",
       "      <td>0.253017</td>\n",
       "      <td>0.012482</td>\n",
       "    </tr>\n",
       "  </tbody>\n",
       "</table>\n",
       "</div>"
      ],
      "text/plain": [
       "        eta      C  n_hidden  epochs  accuracy_mean  accuracy_std\n",
       "0  0.000001  0.001        50     100       0.316602      0.034591\n",
       "1  0.000001  0.001        50     100       0.306407      0.039521\n",
       "2  0.000001  0.001        30     100       0.301630      0.032060\n",
       "3  0.000001  0.001        30     100       0.278337      0.031301\n",
       "4  0.000010  0.001        30     100       0.253017      0.012482"
      ]
     },
     "execution_count": 47,
     "metadata": {},
     "output_type": "execute_result"
    }
   ],
   "source": [
    "grid_results = pd.read_csv(\"initial_grid_results.csv\")\n",
    "grid_results.head()\n",
    "# grid_results.to_csv(\"initial_grid_results.csv\", index=False)"
   ]
  },
  {
   "cell_type": "code",
   "execution_count": 48,
   "metadata": {},
   "outputs": [
    {
     "data": {
      "text/plain": [
       "eta           0.000001\n",
       "C             0.001000\n",
       "n_hidden     50.000000\n",
       "epochs      100.000000\n",
       "Name: 0, dtype: float64"
      ]
     },
     "execution_count": 48,
     "metadata": {},
     "output_type": "execute_result"
    }
   ],
   "source": [
    "best_params = grid_results.iloc[0][:4]\n",
    "best_params"
   ]
  },
  {
   "cell_type": "code",
   "execution_count": 49,
   "metadata": {},
   "outputs": [
    {
     "name": "stderr",
     "output_type": "stream",
     "text": [
      "Epoch: 100/100"
     ]
    },
    {
     "data": {
      "text/plain": [
       "<__main__.TLPBetterInitial at 0x127ed22a0>"
      ]
     },
     "execution_count": 49,
     "metadata": {},
     "output_type": "execute_result"
    }
   ],
   "source": [
    "# Initialize the mlp\n",
    "mlp = TLPBetterInitial(\n",
    "    eta=best_params[\"eta\"],\n",
    "    C=best_params[\"C\"],\n",
    "    n_hidden=int(best_params[\"n_hidden\"]),\n",
    "    epochs=int(best_params[\"epochs\"]),\n",
    "    random_state=7324,\n",
    ")\n",
    "# Fit the mlp\n",
    "mlp.fit(x_train.to_numpy(), y_train_cat.to_numpy(), print_progress=10)"
   ]
  },
  {
   "cell_type": "code",
   "execution_count": 25,
   "metadata": {},
   "outputs": [
    {
     "data": {
      "text/plain": [
       "0.3587046204620462"
      ]
     },
     "execution_count": 25,
     "metadata": {},
     "output_type": "execute_result"
    }
   ],
   "source": [
    "# Check the accuracy of the mlp on the test set\n",
    "yhat = mlp.predict(x_test.to_numpy())\n",
    "accuracy_score(y_true=y_test_cat, y_pred=yhat)"
   ]
  },
  {
   "cell_type": "code",
   "execution_count": 50,
   "metadata": {},
   "outputs": [],
   "source": [
    "def print_result(\n",
    "    nn, X_train, y_train, X_test, y_test, title=\"\", color=\"red\"\n",
    "):\n",
    "    print(\"=================\")\n",
    "    print(title, \":\")\n",
    "    yhat = nn.predict(X_train)\n",
    "    print(\"Resubstitution acc:\", accuracy_score(y_train, yhat))\n",
    "\n",
    "    yhat = nn.predict(X_test)\n",
    "    print(\"Validation acc:\", accuracy_score(y_test, yhat))\n",
    "\n",
    "    if hasattr(nn, \"val_score_\"):\n",
    "        plt.plot(\n",
    "            range(len(nn.val_score_)),\n",
    "            nn.val_score_,\n",
    "            color=color,\n",
    "            label=title,\n",
    "        )\n",
    "        plt.ylabel(\"Validation Accuracy\")\n",
    "    else:\n",
    "        plt.plot(\n",
    "            range(len(nn.score_)), nn.score_, color=color, label=title\n",
    "        )\n",
    "        plt.ylabel(\"Resub Accuracy\")\n",
    "\n",
    "    plt.xlabel(\"Epochs\")\n",
    "    plt.tight_layout()\n",
    "    plt.legend(loc=\"best\")\n",
    "    plt.grid(True)"
   ]
  },
  {
   "cell_type": "code",
   "execution_count": 51,
   "metadata": {},
   "outputs": [
    {
     "name": "stdout",
     "output_type": "stream",
     "text": [
      "=================\n",
      "MLP :\n",
      "Resubstitution acc: 0.364750575858631\n",
      "Validation acc: 0.3587046204620462\n"
     ]
    },
    {
     "data": {
      "image/png": "[encoded data removed]",
      "text/plain": [
       "<Figure size 640x480 with 1 Axes>"
      ]
     },
     "metadata": {},
     "output_type": "display_data"
    }
   ],
   "source": [
    "print_result(\n",
    "    mlp,\n",
    "    x_train.to_numpy(),\n",
    "    y_train_cat.to_numpy(),\n",
    "    x_test.to_numpy(),\n",
    "    y_test_cat,\n",
    "    \"MLP\",\n",
    "    \"blue\",\n",
    ")\n",
    "plt.show()"
   ]
  },
  {
   "cell_type": "markdown",
   "metadata": {},
   "source": [
    "ADD COMMENTARY"
   ]
  },
  {
   "cell_type": "markdown",
   "metadata": {},
   "source": [
    "### Apply Normalization to Numeric Features and Retrain the MLP"
   ]
  },
  {
   "cell_type": "code",
   "execution_count": 29,
   "metadata": {},
   "outputs": [],
   "source": [
    "scaler = StandardScaler().set_output(transform=\"pandas\")\n",
    "# Scale all features but State\n",
    "x_train_scaled = x_train.drop(columns=[\"State\"]).copy()\n",
    "x_test_scaled = x_test.drop(columns=[\"State\"]).copy()\n",
    "# Fit scaler on training data\n",
    "scaler.fit(x_train_scaled)\n",
    "# Transform both training and test data\n",
    "x_train_scaled = scaler.transform(x_train_scaled)\n",
    "x_test_scaled = scaler.transform(x_test_scaled)\n",
    "# Add back the State column\n",
    "x_train_scaled[\"State\"] = x_train[\"State\"]\n",
    "x_test_scaled[\"State\"] = x_test[\"State\"]\n"
   ]
  },
  {
   "cell_type": "code",
   "execution_count": 30,
   "metadata": {},
   "outputs": [],
   "source": [
    "full_hyper_grid = {\n",
    "    \"eta\": [0.000001, 0.00001],  # Learning rates\n",
    "    \"C\": [0.0, 0.001, 0.01],  # Regularization strengths\n",
    "    \"n_hidden\": [30, 50],  # Number of neurons in hidden layer\n",
    "    \"epochs\": [500],  # Number of epochs\n",
    "}"
   ]
  },
  {
   "cell_type": "code",
   "execution_count": null,
   "metadata": {},
   "outputs": [],
   "source": [
    "# scaled_grid_results = grid_search(\n",
    "#     nn=TLPBetterInitial,\n",
    "#     x=x_train_scaled.to_numpy(),\n",
    "#     y=y_train_cat.to_numpy(),\n",
    "#     param_grid=full_hyper_grid,\n",
    "# ).sort_values(by=\"accuracy_mean\", ascending=False)"
   ]
  },
  {
   "cell_type": "code",
   "execution_count": 52,
   "metadata": {},
   "outputs": [
    {
     "data": {
      "text/html": [
       "<div>\n",
       "<style scoped>\n",
       "    .dataframe tbody tr th:only-of-type {\n",
       "        vertical-align: middle;\n",
       "    }\n",
       "\n",
       "    .dataframe tbody tr th {\n",
       "        vertical-align: top;\n",
       "    }\n",
       "\n",
       "    .dataframe thead th {\n",
       "        text-align: right;\n",
       "    }\n",
       "</style>\n",
       "<table border=\"1\" class=\"dataframe\">\n",
       "  <thead>\n",
       "    <tr style=\"text-align: right;\">\n",
       "      <th></th>\n",
       "      <th>eta</th>\n",
       "      <th>C</th>\n",
       "      <th>n_hidden</th>\n",
       "      <th>epochs</th>\n",
       "      <th>accuracy_mean</th>\n",
       "      <th>accuracy_std</th>\n",
       "    </tr>\n",
       "  </thead>\n",
       "  <tbody>\n",
       "    <tr>\n",
       "      <th>0</th>\n",
       "      <td>0.000010</td>\n",
       "      <td>0.001</td>\n",
       "      <td>30</td>\n",
       "      <td>500</td>\n",
       "      <td>0.544247</td>\n",
       "      <td>0.015732</td>\n",
       "    </tr>\n",
       "    <tr>\n",
       "      <th>1</th>\n",
       "      <td>0.000010</td>\n",
       "      <td>0.001</td>\n",
       "      <td>30</td>\n",
       "      <td>500</td>\n",
       "      <td>0.542613</td>\n",
       "      <td>0.018852</td>\n",
       "    </tr>\n",
       "    <tr>\n",
       "      <th>2</th>\n",
       "      <td>0.000001</td>\n",
       "      <td>0.001</td>\n",
       "      <td>50</td>\n",
       "      <td>500</td>\n",
       "      <td>0.537199</td>\n",
       "      <td>0.008143</td>\n",
       "    </tr>\n",
       "    <tr>\n",
       "      <th>3</th>\n",
       "      <td>0.000001</td>\n",
       "      <td>0.001</td>\n",
       "      <td>50</td>\n",
       "      <td>500</td>\n",
       "      <td>0.533812</td>\n",
       "      <td>0.008549</td>\n",
       "    </tr>\n",
       "    <tr>\n",
       "      <th>4</th>\n",
       "      <td>0.000001</td>\n",
       "      <td>0.001</td>\n",
       "      <td>50</td>\n",
       "      <td>500</td>\n",
       "      <td>0.533709</td>\n",
       "      <td>0.014386</td>\n",
       "    </tr>\n",
       "  </tbody>\n",
       "</table>\n",
       "</div>"
      ],
      "text/plain": [
       "        eta      C  n_hidden  epochs  accuracy_mean  accuracy_std\n",
       "0  0.000010  0.001        30     500       0.544247      0.015732\n",
       "1  0.000010  0.001        30     500       0.542613      0.018852\n",
       "2  0.000001  0.001        50     500       0.537199      0.008143\n",
       "3  0.000001  0.001        50     500       0.533812      0.008549\n",
       "4  0.000001  0.001        50     500       0.533709      0.014386"
      ]
     },
     "execution_count": 52,
     "metadata": {},
     "output_type": "execute_result"
    }
   ],
   "source": [
    "scaled_grid_results = pd.read_csv(\"scaled_grid_results.csv\")\n",
    "scaled_grid_results.head()\n",
    "# scaled_grid_results.to_csv(\"scaled_grid_results.csv\", index=False)"
   ]
  },
  {
   "cell_type": "code",
   "execution_count": 53,
   "metadata": {},
   "outputs": [
    {
     "data": {
      "text/plain": [
       "eta           0.00001\n",
       "C             0.00100\n",
       "n_hidden     30.00000\n",
       "epochs      500.00000\n",
       "Name: 0, dtype: float64"
      ]
     },
     "execution_count": 53,
     "metadata": {},
     "output_type": "execute_result"
    }
   ],
   "source": [
    "scaled_best_params = scaled_grid_results.iloc[0][:4]\n",
    "scaled_best_params"
   ]
  },
  {
   "cell_type": "code",
   "execution_count": 54,
   "metadata": {},
   "outputs": [
    {
     "name": "stderr",
     "output_type": "stream",
     "text": [
      "Epoch: 500/500"
     ]
    },
    {
     "data": {
      "text/plain": [
       "<__main__.TLPBetterInitial at 0x127f5d1f0>"
      ]
     },
     "execution_count": 54,
     "metadata": {},
     "output_type": "execute_result"
    }
   ],
   "source": [
    "scaled_mlp = TLPBetterInitial(\n",
    "    eta=scaled_best_params[\"eta\"],\n",
    "    C=scaled_best_params[\"C\"],\n",
    "    n_hidden=int(scaled_best_params[\"n_hidden\"]),\n",
    "    epochs=int(scaled_best_params[\"epochs\"]),\n",
    "    random_state=7324,\n",
    ")\n",
    "# Fit the mlp to the scaled data\n",
    "scaled_mlp.fit(\n",
    "    x_train_scaled.to_numpy(), y_train_cat.to_numpy(), print_progress=10\n",
    ")"
   ]
  },
  {
   "cell_type": "code",
   "execution_count": 43,
   "metadata": {},
   "outputs": [
    {
     "data": {
      "text/plain": [
       "0.5239273927392739"
      ]
     },
     "execution_count": 43,
     "metadata": {},
     "output_type": "execute_result"
    }
   ],
   "source": [
    "# Check the accuracy of the mlp on the test set\n",
    "yhat_scaled = scaled_mlp.predict(x_test_scaled.to_numpy())\n",
    "accuracy_score(y_true=y_test_cat, y_pred=yhat_scaled)"
   ]
  },
  {
   "cell_type": "code",
   "execution_count": 44,
   "metadata": {},
   "outputs": [
    {
     "name": "stdout",
     "output_type": "stream",
     "text": [
      "=================\n",
      "MLP w/ Scaling :\n",
      "Resubstitution acc: 0.5233953312476364\n",
      "Validation acc: 0.5239273927392739\n"
     ]
    },
    {
     "data": {
      "image/png": "[encoded data removed]",
      "text/plain": [
       "<Figure size 640x480 with 1 Axes>"
      ]
     },
     "metadata": {},
     "output_type": "display_data"
    }
   ],
   "source": [
    "print_result(\n",
    "    scaled_mlp,\n",
    "    x_train_scaled.to_numpy(),\n",
    "    y_train_cat.to_numpy(),\n",
    "    x_test_scaled.to_numpy(),\n",
    "    y_test_cat,\n",
    "    \"MLP w/ Scaling\",\n",
    "    \"red\",\n",
    ")\n",
    "plt.show()"
   ]
  },
  {
   "cell_type": "markdown",
   "metadata": {},
   "source": [
    "ADD COMMENTARY"
   ]
  },
  {
   "cell_type": "markdown",
   "metadata": {},
   "source": [
    "### Apply One-Hot Encoding to State Column and Retrain the MLP"
   ]
  },
  {
   "cell_type": "code",
   "execution_count": 62,
   "metadata": {},
   "outputs": [],
   "source": [
    "encoder = OneHotEncoder(sparse_output=False).set_output(transform=\"pandas\")\n",
    "# Fit the encoder on the training data\n",
    "encoder.fit(x_train_scaled[[\"State\"]])\n",
    "# Transform both training and test data\n",
    "x_train_encoded = encoder.transform(x_train_scaled[[\"State\"]])\n",
    "x_test_encoded = encoder.transform(x_test_scaled[[\"State\"]])\n",
    "# Concatenate the encoded state columns with the rest of the features\n",
    "x_train_final = pd.concat(\n",
    "    [x_train_scaled.drop(columns=[\"State\"]), x_train_encoded],\n",
    "    axis=1,\n",
    ")\n",
    "x_test_final = pd.concat(\n",
    "    [x_test_scaled.drop(columns=[\"State\"]), x_test_encoded],\n",
    "    axis=1,\n",
    ")"
   ]
  },
  {
   "cell_type": "code",
   "execution_count": null,
   "metadata": {},
   "outputs": [],
   "source": [
    "final_grid_results = grid_search(\n",
    "    nn=TLPBetterInitial,\n",
    "    x=x_train_final.to_numpy(),\n",
    "    y=y_train_cat.to_numpy(),\n",
    "    param_grid=full_hyper_grid,\n",
    ").sort_values(by=\"accuracy_mean\", ascending=False)"
   ]
  },
  {
   "cell_type": "code",
   "execution_count": null,
   "metadata": {},
   "outputs": [
    {
     "data": {
      "text/html": [
       "<div>\n",
       "<style scoped>\n",
       "    .dataframe tbody tr th:only-of-type {\n",
       "        vertical-align: middle;\n",
       "    }\n",
       "\n",
       "    .dataframe tbody tr th {\n",
       "        vertical-align: top;\n",
       "    }\n",
       "\n",
       "    .dataframe thead th {\n",
       "        text-align: right;\n",
       "    }\n",
       "</style>\n",
       "<table border=\"1\" class=\"dataframe\">\n",
       "  <thead>\n",
       "    <tr style=\"text-align: right;\">\n",
       "      <th></th>\n",
       "      <th>eta</th>\n",
       "      <th>C</th>\n",
       "      <th>n_hidden</th>\n",
       "      <th>epochs</th>\n",
       "      <th>accuracy_mean</th>\n",
       "      <th>accuracy_std</th>\n",
       "    </tr>\n",
       "  </thead>\n",
       "  <tbody>\n",
       "    <tr>\n",
       "      <th>10</th>\n",
       "      <td>0.000010</td>\n",
       "      <td>0.001</td>\n",
       "      <td>30</td>\n",
       "      <td>500</td>\n",
       "      <td>0.544247</td>\n",
       "      <td>0.015732</td>\n",
       "    </tr>\n",
       "    <tr>\n",
       "      <th>8</th>\n",
       "      <td>0.000010</td>\n",
       "      <td>0.001</td>\n",
       "      <td>30</td>\n",
       "      <td>500</td>\n",
       "      <td>0.542613</td>\n",
       "      <td>0.018852</td>\n",
       "    </tr>\n",
       "    <tr>\n",
       "      <th>3</th>\n",
       "      <td>0.000001</td>\n",
       "      <td>0.001</td>\n",
       "      <td>50</td>\n",
       "      <td>500</td>\n",
       "      <td>0.537199</td>\n",
       "      <td>0.008143</td>\n",
       "    </tr>\n",
       "    <tr>\n",
       "      <th>1</th>\n",
       "      <td>0.000001</td>\n",
       "      <td>0.001</td>\n",
       "      <td>50</td>\n",
       "      <td>500</td>\n",
       "      <td>0.533812</td>\n",
       "      <td>0.008549</td>\n",
       "    </tr>\n",
       "    <tr>\n",
       "      <th>5</th>\n",
       "      <td>0.000001</td>\n",
       "      <td>0.001</td>\n",
       "      <td>50</td>\n",
       "      <td>500</td>\n",
       "      <td>0.533709</td>\n",
       "      <td>0.014386</td>\n",
       "    </tr>\n",
       "  </tbody>\n",
       "</table>\n",
       "</div>"
      ],
      "text/plain": [
       "         eta      C  n_hidden  epochs  accuracy_mean  accuracy_std\n",
       "10  0.000010  0.001        30     500       0.544247      0.015732\n",
       "8   0.000010  0.001        30     500       0.542613      0.018852\n",
       "3   0.000001  0.001        50     500       0.537199      0.008143\n",
       "1   0.000001  0.001        50     500       0.533812      0.008549\n",
       "5   0.000001  0.001        50     500       0.533709      0.014386"
      ]
     },
     "metadata": {},
     "output_type": "display_data"
    }
   ],
   "source": [
    "final_grid_results.head()"
   ]
  },
  {
   "cell_type": "code",
   "execution_count": null,
   "metadata": {},
   "outputs": [
    {
     "data": {
      "text/plain": [
       "eta           0.00001\n",
       "C             0.00100\n",
       "n_hidden     30.00000\n",
       "epochs      500.00000\n",
       "Name: 10, dtype: float64"
      ]
     },
     "metadata": {},
     "output_type": "display_data"
    }
   ],
   "source": [
    "final_best_params = final_grid_results.iloc[0][:4]\n",
    "final_best_params"
   ]
  },
  {
   "cell_type": "code",
   "execution_count": null,
   "metadata": {},
   "outputs": [
    {
     "name": "stderr",
     "output_type": "stream",
     "text": [
      "Epoch: 500/500"
     ]
    },
    {
     "data": {
      "text/plain": [
       "<__main__.TLPBetterInitial at 0x1399b4e60>"
      ]
     },
     "execution_count": 64,
     "metadata": {},
     "output_type": "execute_result"
    }
   ],
   "source": [
    "# Initialize the final mlp with one-hot encoded state\n",
    "final_mlp = TLPBetterInitial(\n",
    "    eta=final_best_params[\"eta\"],\n",
    "    C=final_best_params[\"C\"],\n",
    "    n_hidden=int(final_best_params[\"n_hidden\"]),\n",
    "    epochs=int(final_best_params[\"epochs\"]),\n",
    "    random_state=7324,\n",
    ")\n",
    "# Fit the final mlp to the one-hot encoded data\n",
    "final_mlp.fit(\n",
    "    x_train_final.to_numpy(), y_train_cat.to_numpy(), print_progress=10\n",
    ")"
   ]
  },
  {
   "cell_type": "code",
   "execution_count": 65,
   "metadata": {},
   "outputs": [
    {
     "data": {
      "text/plain": [
       "0.6775302530253026"
      ]
     },
     "execution_count": 65,
     "metadata": {},
     "output_type": "execute_result"
    }
   ],
   "source": [
    "# Check the accuracy of the new mlp on the test set\n",
    "yhat_final = final_mlp.predict(x_test_final.to_numpy())\n",
    "accuracy_score(y_true=y_test_cat, y_pred=yhat_final)"
   ]
  },
  {
   "cell_type": "code",
   "execution_count": 66,
   "metadata": {},
   "outputs": [
    {
     "name": "stdout",
     "output_type": "stream",
     "text": [
      "=================\n",
      "MLP w/ Scaling :\n",
      "Resubstitution acc: 0.6738061677037852\n",
      "Validation acc: 0.6775302530253026\n"
     ]
    },
    {
     "data": {
      "image/png": "[encoded data removed]",
      "text/plain": [
       "<Figure size 640x480 with 1 Axes>"
      ]
     },
     "metadata": {},
     "output_type": "display_data"
    }
   ],
   "source": [
    "print_result(\n",
    "    final_mlp,\n",
    "    x_train_final.to_numpy(),\n",
    "    y_train_cat.to_numpy(),\n",
    "    x_test_final.to_numpy(),\n",
    "    y_test_cat,\n",
    "    \"MLP w/ Scaling\",\n",
    "    \"red\",\n",
    ")\n",
    "plt.show()"
   ]
  },
  {
   "cell_type": "markdown",
   "metadata": {},
   "source": [
    "ADD COMMENTARY"
   ]
  },
  {
   "cell_type": "markdown",
   "metadata": {},
   "source": [
    "### Model Performance Comparison"
   ]
  },
  {
   "cell_type": "markdown",
   "metadata": {},
   "source": [
    "Add statistical test for comparing the performance of the models once we fix them."
   ]
  },
  {
   "cell_type": "markdown",
   "metadata": {},
   "source": [
    "## Modeling"
   ]
  },
  {
   "cell_type": "code",
   "execution_count": null,
   "metadata": {},
   "outputs": [],
   "source": []
  }
 ],
 "metadata": {
  "kernelspec": {
   "display_name": "3.12.5",
   "language": "python",
   "name": "python3"
  },
  "language_info": {
   "codemirror_mode": {
    "name": "ipython",
    "version": 3
   },
   "file_extension": ".py",
   "mimetype": "text/x-python",
   "name": "python",
   "nbconvert_exporter": "python",
   "pygments_lexer": "ipython3",
   "version": "3.12.5"
  }
 },
 "nbformat": 4,
 "nbformat_minor": 2
}
